{
  "nbformat": 4,
  "nbformat_minor": 0,
  "metadata": {
    "colab": {
      "provenance": [],
      "gpuType": "V28",
      "authorship_tag": "ABX9TyPt/ipWlK46gUH77rjFj077",
      "include_colab_link": true
    },
    "kernelspec": {
      "name": "python3",
      "display_name": "Python 3"
    },
    "language_info": {
      "name": "python"
    },
    "accelerator": "TPU"
  },
  "cells": [
    {
      "cell_type": "markdown",
      "metadata": {
        "id": "view-in-github",
        "colab_type": "text"
      },
      "source": [
        "<a href=\"https://colab.research.google.com/github/pratyush0898/PratyuVerse/blob/main/PratyuVerse.ipynb\" target=\"_parent\"><img src=\"https://colab.research.google.com/assets/colab-badge.svg\" alt=\"Open In Colab\"/></a>"
      ]
    },
    {
      "cell_type": "code",
      "execution_count": null,
      "metadata": {
        "id": "V7dDxU86rYzj"
      },
      "outputs": [],
      "source": [
        "!git clone https://github.com/pratyush0898/PratyuVerse.git /content/github"
      ]
    },
    {
      "cell_type": "code",
      "source": [
        "!pip install -r /content/github/requirements.txt"
      ],
      "metadata": {
        "id": "oXrIDTdVte5c"
      },
      "execution_count": null,
      "outputs": []
    },
    {
      "cell_type": "code",
      "source": [
        "!python /content/github/scripts/gather_data.py"
      ],
      "metadata": {
        "id": "sjE6CrblthmE"
      },
      "execution_count": null,
      "outputs": []
    },
    {
      "cell_type": "code",
      "source": [
        "!python /content/github/scripts/preprocess_data.py"
      ],
      "metadata": {
        "id": "UvlhSjrqtla0"
      },
      "execution_count": null,
      "outputs": []
    },
    {
      "cell_type": "code",
      "source": [
        "!python /content/github/scripts/train_model.py"
      ],
      "metadata": {
        "id": "WxkJosP5tnNE"
      },
      "execution_count": null,
      "outputs": []
    },
    {
      "cell_type": "code",
      "source": [
        "!python /content/github/chatbot.py"
      ],
      "metadata": {
        "id": "NMTp6Vzrtruc"
      },
      "execution_count": null,
      "outputs": []
    }
  ]
}
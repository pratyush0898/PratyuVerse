{
  "nbformat": 4,
  "nbformat_minor": 0,
  "metadata": {
    "colab": {
      "provenance": [],
      "authorship_tag": "ABX9TyPt/ipWlK46gUH77rjFj077"
    },
    "kernelspec": {
      "name": "python3",
      "display_name": "Python 3"
    },
    "language_info": {
      "name": "python"
    }
  },
  "cells": [
    {
      "cell_type": "code",
      "execution_count": null,
      "metadata": {
        "id": "V7dDxU86rYzj"
      },
      "outputs": [],
      "source": [
        "!git clone https://github.com/pratyush0898/PratyuVerse.git /content/github"
      ]
    },
    {
      "cell_type": "code",
      "source": [
        "!pip install -r /content/github/requirements.txt"
      ],
      "metadata": {
        "id": "oXrIDTdVte5c"
      },
      "execution_count": null,
      "outputs": []
    },
    {
      "cell_type": "code",
      "source": [
        "!python /content/github/scripts/gather_data.py"
      ],
      "metadata": {
        "id": "sjE6CrblthmE"
      },
      "execution_count": null,
      "outputs": []
    },
    {
      "cell_type": "code",
      "source": [
        "!python /content/github/scripts/preprocess_data.py"
      ],
      "metadata": {
        "id": "UvlhSjrqtla0"
      },
      "execution_count": null,
      "outputs": []
    },
    {
      "cell_type": "code",
      "source": [
        "!python /content/github/scripts/train_model.py"
      ],
      "metadata": {
        "id": "WxkJosP5tnNE"
      },
      "execution_count": null,
      "outputs": []
    },
    {
      "cell_type": "code",
      "source": [
        "!python /content/github/chatbot.py"
      ],
      "metadata": {
        "id": "NMTp6Vzrtruc"
      },
      "execution_count": null,
      "outputs": []
    }
  ]
}